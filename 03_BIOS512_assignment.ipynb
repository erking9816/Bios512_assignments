{
 "cells": [
  {
   "cell_type": "markdown",
   "id": "e9216b63-c18a-4c9b-beff-4b6b2e1b6964",
   "metadata": {},
   "source": [
    "# BIOS512 Assignment #3"
   ]
  },
  {
   "cell_type": "markdown",
   "id": "4403015e-d27f-473c-8720-088ac6db57c9",
   "metadata": {},
   "source": [
    "Import the 📈Tidyverse into your `R` session"
   ]
  },
  {
   "cell_type": "code",
   "execution_count": null,
   "id": "2cb997c6-b57c-4198-aa5c-8be897467c7c",
   "metadata": {
    "tags": []
   },
   "outputs": [],
   "source": [
    "library('tidyverse')\n",
    "library('ggrepel')"
   ]
  },
  {
   "cell_type": "markdown",
   "id": "47ccf7f6-01c6-46b4-94a1-f8dcd8ef8377",
   "metadata": {},
   "source": [
    "In this assignment we'll be using data from the [TidyTuesday Project](https://github.com/rfordatascience/tidytuesday). Specifically, we'll investigate vaccination rates at US schools. A `CSV` file of the data is located at:  \n",
    "\n",
    "[https://github.com/rfordatascience/tidytuesday/blob/master/data/2020/2020-02-25/measles.csv](https://github.com/rfordatascience/tidytuesday/blob/master/data/2020/2020-02-25/measles.csv)\n",
    "\n",
    "Get the \"raw\" data URL and import it into your `R` session using `read_csv`. Remember to capture the data under a variable name of your choosing!"
   ]
  },
  {
   "cell_type": "code",
   "execution_count": null,
   "id": "8de37571-29da-4393-b1eb-ca13fcd70fed",
   "metadata": {
    "tags": []
   },
   "outputs": [],
   "source": [
    "df_mmr = read_csv('https://raw.githubusercontent.com/rfordatascience/tidytuesday/master/data/2020/2020-02-25/measles.csv')\n",
    "\n",
    "df_mmr%>%head()\n",
    "\n"
   ]
  },
  {
   "cell_type": "markdown",
   "id": "feb89cec-8cda-457d-95cf-89dbfa932ab4",
   "metadata": {},
   "source": [
    "The `mmr` column has holds 🤒 measles, mumps, rubella 🤒 vaccination rates for students in each respective school. **If the `mmr` value is not available for a school the `mmr` value is set to -1 in this data set.** \n",
    "\n",
    "The target `mmr` vaccination rate as [recommended by the CDC](https://www.cdc.gov/mmwr/preview/mmwrhtml/mm5632a3.htm) for schools is 95%. \n",
    "\n",
    "**Calculate the fraction of schools per state that have vaccination rates greater than the CDC 95%. Capture the output as a table called `df_vacc_rates`.**\n",
    "\n",
    "You'll need to do use `filter`, `group_by`, and `summarize`. \n",
    "\n",
    "I.e.\n",
    "1. Filter out schools that don't report `mmr` vaccination rate (keep schools where `mmr >= 0`).\n",
    "1. Group the data by `state`.\n",
    "1. Summarize fracion of vaccination rates above 95%.\n",
    "\n",
    "💡Remember `n()` stands for the number or records in a group. Also, `sum(mmr >= 95, na.rm=TRUE)` will count the number of values above or equal to 95.💡"
   ]
  },
  {
   "cell_type": "code",
   "execution_count": 3,
   "id": "0ba9a861-00fc-4392-a67d-cddbd5a994e0",
   "metadata": {},
   "outputs": [
    {
     "data": {
      "text/html": [
       "<table class=\"dataframe\">\n",
       "<caption>A tibble: 21 × 2</caption>\n",
       "<thead>\n",
       "\t<tr><th scope=col>state</th><th scope=col>sum(mmr &gt;= 95, na.rm = TRUE)</th></tr>\n",
       "\t<tr><th scope=col>&lt;chr&gt;</th><th scope=col>&lt;int&gt;</th></tr>\n",
       "</thead>\n",
       "<tbody>\n",
       "\t<tr><td>Arizona      </td><td>  593</td></tr>\n",
       "\t<tr><td>Arkansas     </td><td>    2</td></tr>\n",
       "\t<tr><td>California   </td><td>12639</td></tr>\n",
       "\t<tr><td>Colorado     </td><td>  939</td></tr>\n",
       "\t<tr><td>Connecticut  </td><td>  478</td></tr>\n",
       "\t<tr><td>Illinois     </td><td> 6893</td></tr>\n",
       "\t<tr><td>Maine        </td><td>  169</td></tr>\n",
       "\t<tr><td>Massachusetts</td><td>  826</td></tr>\n",
       "\t<tr><td>Minnesota    </td><td>  755</td></tr>\n",
       "\t<tr><td>Missouri     </td><td>  476</td></tr>\n",
       "\t<tr><td>Montana      </td><td>  370</td></tr>\n",
       "\t<tr><td>New York     </td><td> 3576</td></tr>\n",
       "\t<tr><td>North Dakota </td><td>  164</td></tr>\n",
       "\t<tr><td>Ohio         </td><td> 1435</td></tr>\n",
       "\t<tr><td>Oregon       </td><td>  478</td></tr>\n",
       "\t<tr><td>Pennsylvania </td><td> 1619</td></tr>\n",
       "\t<tr><td>South Dakota </td><td>  277</td></tr>\n",
       "\t<tr><td>Texas        </td><td>  508</td></tr>\n",
       "\t<tr><td>Utah         </td><td>  410</td></tr>\n",
       "\t<tr><td>Vermont      </td><td>  231</td></tr>\n",
       "\t<tr><td>Washington   </td><td>  646</td></tr>\n",
       "</tbody>\n",
       "</table>\n"
      ],
      "text/latex": [
       "A tibble: 21 × 2\n",
       "\\begin{tabular}{ll}\n",
       " state & sum(mmr >= 95, na.rm = TRUE)\\\\\n",
       " <chr> & <int>\\\\\n",
       "\\hline\n",
       "\t Arizona       &   593\\\\\n",
       "\t Arkansas      &     2\\\\\n",
       "\t California    & 12639\\\\\n",
       "\t Colorado      &   939\\\\\n",
       "\t Connecticut   &   478\\\\\n",
       "\t Illinois      &  6893\\\\\n",
       "\t Maine         &   169\\\\\n",
       "\t Massachusetts &   826\\\\\n",
       "\t Minnesota     &   755\\\\\n",
       "\t Missouri      &   476\\\\\n",
       "\t Montana       &   370\\\\\n",
       "\t New York      &  3576\\\\\n",
       "\t North Dakota  &   164\\\\\n",
       "\t Ohio          &  1435\\\\\n",
       "\t Oregon        &   478\\\\\n",
       "\t Pennsylvania  &  1619\\\\\n",
       "\t South Dakota  &   277\\\\\n",
       "\t Texas         &   508\\\\\n",
       "\t Utah          &   410\\\\\n",
       "\t Vermont       &   231\\\\\n",
       "\t Washington    &   646\\\\\n",
       "\\end{tabular}\n"
      ],
      "text/markdown": [
       "\n",
       "A tibble: 21 × 2\n",
       "\n",
       "| state &lt;chr&gt; | sum(mmr &gt;= 95, na.rm = TRUE) &lt;int&gt; |\n",
       "|---|---|\n",
       "| Arizona       |   593 |\n",
       "| Arkansas      |     2 |\n",
       "| California    | 12639 |\n",
       "| Colorado      |   939 |\n",
       "| Connecticut   |   478 |\n",
       "| Illinois      |  6893 |\n",
       "| Maine         |   169 |\n",
       "| Massachusetts |   826 |\n",
       "| Minnesota     |   755 |\n",
       "| Missouri      |   476 |\n",
       "| Montana       |   370 |\n",
       "| New York      |  3576 |\n",
       "| North Dakota  |   164 |\n",
       "| Ohio          |  1435 |\n",
       "| Oregon        |   478 |\n",
       "| Pennsylvania  |  1619 |\n",
       "| South Dakota  |   277 |\n",
       "| Texas         |   508 |\n",
       "| Utah          |   410 |\n",
       "| Vermont       |   231 |\n",
       "| Washington    |   646 |\n",
       "\n"
      ],
      "text/plain": [
       "   state         sum(mmr >= 95, na.rm = TRUE)\n",
       "1  Arizona         593                       \n",
       "2  Arkansas          2                       \n",
       "3  California    12639                       \n",
       "4  Colorado        939                       \n",
       "5  Connecticut     478                       \n",
       "6  Illinois       6893                       \n",
       "7  Maine           169                       \n",
       "8  Massachusetts   826                       \n",
       "9  Minnesota       755                       \n",
       "10 Missouri        476                       \n",
       "11 Montana         370                       \n",
       "12 New York       3576                       \n",
       "13 North Dakota    164                       \n",
       "14 Ohio           1435                       \n",
       "15 Oregon          478                       \n",
       "16 Pennsylvania   1619                       \n",
       "17 South Dakota    277                       \n",
       "18 Texas           508                       \n",
       "19 Utah            410                       \n",
       "20 Vermont         231                       \n",
       "21 Washington      646                       "
      ]
     },
     "metadata": {},
     "output_type": "display_data"
    }
   ],
   "source": [
    "# create the df_vacc_rates here\n",
    "df_vacc_rates =\n",
    "df_mmr%>% filter(mmr >=0) %>% group_by(state)%>%summarize(sum(mmr >= 95, na.rm=TRUE))\n",
    "\n",
    "df_vacc_rates"
   ]
  },
  {
   "cell_type": "markdown",
   "id": "900ddf7f-d801-4a70-9453-73bdd3277344",
   "metadata": {},
   "source": [
    "Which state (of those that report `mmr`) has the smallest fraction of schools above the CDC target vaccination rate of 95%?  "
   ]
  },
  {
   "cell_type": "markdown",
   "id": "e7a820b8-8e6a-485f-8529-39715cc0d3f5",
   "metadata": {},
   "source": [
    "Arkansas has the smallest fraction of schools above the CDC target vaccination rate of 95%"
   ]
  },
  {
   "cell_type": "markdown",
   "id": "2866ca03-1f87-466e-ab0a-dd69140496e6",
   "metadata": {},
   "source": [
    "**Make a ECDF plot of the school vaccination rates in North Carolina.** Use the `overall` column which reports the \"overall\" vaccination rate at each school.\n",
    "\n",
    "❗️Remember, you can calculate the `y` value for ECDF charts using `row_number`, `mutate`, and `arrange`."
   ]
  },
  {
   "cell_type": "code",
   "execution_count": null,
   "id": "478c5949-b5cb-4a4c-9915-6201427248c1",
   "metadata": {},
   "outputs": [],
   "source": [
    "options(repr.plot.width = 10, repr.plot.height = 5)\n",
    "ecdf = df_mmr%>%\n",
    "arrange(overall)%>%\n",
    "filter(overall >=0) %>%\n",
    "mutate(rn = row_number(), fraction_of_schools = rn / max(rn))\n",
    "\n",
    "p= ggplot (ecdf, aes(x=overall, y=fraction_of_schools))+geom_point(color= 'royalblue4')+geom_line(color= 'royalblue4')+\n",
    " labs(x = 'Vaccination rate(%)', y = 'Fraction of Schools')+ geom_vline(xintercept = 95, color = \"skyblue2\", linetype = \"dashed\")+\n",
    " geom_text_repel(label = 'name', color = '#252525', size = 2.5,\n",
    "                    nudge_y = 75, nudge_x = -85, segment.curvature = .2, segment.angle = 90, \n",
    "                    segment.alpha = 0.1, arrow = arrow(length = unit(0.045, \"npc\"))) +\n",
    "theme(axis.title.y = element_text(face = 'bold', margin = margin(r = 10)),axis.title.x = element_text(face = 'bold', margin = margin(r = 10)))\n",
    "\n",
    "p\n",
    "    \n",
    "\n"
   ]
  },
  {
   "cell_type": "markdown",
   "id": "844c821e-ea17-4c92-b7b2-b3c78eda9b8a",
   "metadata": {},
   "source": [
    "(My solution is below if you want to peek 👀. Uncomment the code, change the cell to `markdown`, and exectute it.)"
   ]
  },
  {
   "cell_type": "markdown",
   "id": "28c8ae2d-23a9-4773-9ce3-c0b50ca6ef8d",
   "metadata": {},
   "source": [
    "![](https://github.com/chuckpr/BIOS512/blob/main/assignments/measles-chart.png?raw=true)"
   ]
  },
  {
   "cell_type": "markdown",
   "id": "d2041941-dcee-42e8-957f-a725dc36388f",
   "metadata": {},
   "source": [
    "Is the median vaccination rate for NC schools above the CDC recommended target?"
   ]
  },
  {
   "cell_type": "markdown",
   "id": "af033b74-2d17-4518-98c7-e813ae374b17",
   "metadata": {},
   "source": [
    "the median is after the recommended target"
   ]
  }
 ],
 "metadata": {
  "kernelspec": {
   "display_name": "bios512:R",
   "language": "R",
   "name": "conda-env-bios512-r"
  },
  "language_info": {
   "codemirror_mode": "r",
   "file_extension": ".r",
   "mimetype": "text/x-r-source",
   "name": "R",
   "pygments_lexer": "r",
   "version": "4.3.1"
  }
 },
 "nbformat": 4,
 "nbformat_minor": 5
}
